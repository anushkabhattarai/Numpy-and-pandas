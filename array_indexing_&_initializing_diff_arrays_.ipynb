{
  "nbformat": 4,
  "nbformat_minor": 0,
  "metadata": {
    "colab": {
      "provenance": []
    },
    "kernelspec": {
      "name": "python3",
      "display_name": "Python 3"
    },
    "language_info": {
      "name": "python"
    }
  },
  "cells": [
    {
      "cell_type": "markdown",
      "source": [
        "#**Slice elements from index 1 to index 5 from the following array:**"
      ],
      "metadata": {
        "id": "U4eQPx8se_tz"
      }
    },
    {
      "cell_type": "code",
      "source": [
        "import numpy as np\n",
        "\n",
        "arr=np.array([0,1,2,4,5,6,7,8,9])\n",
        "print (arr[1:5])"
      ],
      "metadata": {
        "colab": {
          "base_uri": "https://localhost:8080/"
        },
        "id": "QgjTh4Q1fInL",
        "outputId": "5904fe90-9443-4d34-f12c-e8dd437997be"
      },
      "execution_count": 6,
      "outputs": [
        {
          "output_type": "stream",
          "name": "stdout",
          "text": [
            "[1 2 4 5]\n"
          ]
        }
      ]
    },
    {
      "cell_type": "markdown",
      "source": [
        "**Slice elements from index 4 to the end of the array:**"
      ],
      "metadata": {
        "id": "-WqhP8f6fTzG"
      }
    },
    {
      "cell_type": "code",
      "source": [
        "import numpy as np\n",
        "\n",
        "arr=([1,3,4,5,6,7,8,9])\n",
        "print(arr[4 :])#selects from the start index to the last"
      ],
      "metadata": {
        "colab": {
          "base_uri": "https://localhost:8080/"
        },
        "id": "tsdj3zO5f0sY",
        "outputId": "21912637-9793-4181-a41d-02834428c203"
      },
      "execution_count": 7,
      "outputs": [
        {
          "output_type": "stream",
          "name": "stdout",
          "text": [
            "[6, 7, 8, 9]\n"
          ]
        }
      ]
    },
    {
      "cell_type": "markdown",
      "source": [
        "**Slice elements from the beginning to index 4 (not included):**"
      ],
      "metadata": {
        "id": "t-BZXg9NiNwz"
      }
    },
    {
      "cell_type": "code",
      "source": [
        "arr=([1,2,4,7,2,9,7,0])\n",
        "print(arr[:4])"
      ],
      "metadata": {
        "colab": {
          "base_uri": "https://localhost:8080/"
        },
        "id": "B5h1D1dpiT7F",
        "outputId": "9eec836c-8be2-4253-b067-5a51e24d6c50"
      },
      "execution_count": 11,
      "outputs": [
        {
          "output_type": "stream",
          "name": "stdout",
          "text": [
            "[1, 2, 4, 7]\n"
          ]
        }
      ]
    },
    {
      "cell_type": "markdown",
      "source": [
        "**Slice from the index 3 from the end to index 1 from the end:**"
      ],
      "metadata": {
        "id": "EK_e7L6cioBW"
      }
    },
    {
      "cell_type": "code",
      "source": [
        "arr=([1,2,4,7,2,9,7,0])\n",
        "\n",
        "#negative sliciing starts with -1 and -1 means the last index\n",
        "print(arr[-3:-1])\n"
      ],
      "metadata": {
        "colab": {
          "base_uri": "https://localhost:8080/"
        },
        "id": "eCqpPe97izLi",
        "outputId": "1145b3b6-450a-4fd7-de05-de7df153a000"
      },
      "execution_count": 12,
      "outputs": [
        {
          "output_type": "stream",
          "name": "stdout",
          "text": [
            "[9, 7]\n"
          ]
        }
      ]
    },
    {
      "cell_type": "markdown",
      "source": [
        "**STEP**\n",
        "**Return every other element from index 1 to index 5:**"
      ],
      "metadata": {
        "id": "Ue8LJ7VQjPwe"
      }
    },
    {
      "cell_type": "code",
      "source": [
        "arr=([1,2,4,7,2,9,7,0])\n",
        "#STARD:END:STEP\n",
        "\n",
        "print(arr[1:5:2])\n",
        "\n"
      ],
      "metadata": {
        "colab": {
          "base_uri": "https://localhost:8080/"
        },
        "id": "tfJL8NfljSqx",
        "outputId": "a391ec5f-0d84-4329-8547-51556f51c2ad"
      },
      "execution_count": 13,
      "outputs": [
        {
          "output_type": "stream",
          "name": "stdout",
          "text": [
            "[2, 7]\n"
          ]
        }
      ]
    },
    {
      "cell_type": "markdown",
      "source": [
        "**return every other element from the entire array:**"
      ],
      "metadata": {
        "id": "Z973JjDcjul0"
      }
    },
    {
      "cell_type": "code",
      "source": [
        "arr=np.array([1,2,4,7,2,9,7,0])\n",
        "print(arr[::2])"
      ],
      "metadata": {
        "colab": {
          "base_uri": "https://localhost:8080/"
        },
        "id": "RMvEzglujxJo",
        "outputId": "4695bc8e-fe6e-450c-93a7-18375dd0154b"
      },
      "execution_count": 21,
      "outputs": [
        {
          "output_type": "stream",
          "name": "stdout",
          "text": [
            "[1 4 2 7]\n"
          ]
        }
      ]
    },
    {
      "cell_type": "markdown",
      "source": [
        "**slice 789**"
      ],
      "metadata": {
        "id": "ZWnIN7SVkCv7"
      }
    },
    {
      "cell_type": "code",
      "source": [
        "import numpy as np\n",
        "\n",
        "arr = np.array([[1, 2, 3, 4, 5],\n",
        "                [6, 7, 8, 9, 10]])\n",
        "\n",
        "print(arr[1, 1:3])\n"
      ],
      "metadata": {
        "colab": {
          "base_uri": "https://localhost:8080/"
        },
        "id": "-oDU_FJekD86",
        "outputId": "bf0e1aa1-c745-4e0b-ddb4-53c3201261ef"
      },
      "execution_count": 20,
      "outputs": [
        {
          "output_type": "stream",
          "name": "stdout",
          "text": [
            "[7 8]\n"
          ]
        }
      ]
    },
    {
      "cell_type": "markdown",
      "source": [
        "**From both elements, return index 2: colum 3,8**"
      ],
      "metadata": {
        "id": "-IOUK4bvlx7i"
      }
    },
    {
      "cell_type": "code",
      "source": [
        "import numpy as np\n",
        "\n",
        "arr = np.array([[1, 2, 3, 4, 5],\n",
        "                [6, 7, 8, 9, 10]])\n",
        "\n",
        "print(arr[0:2,2])"
      ],
      "metadata": {
        "colab": {
          "base_uri": "https://localhost:8080/"
        },
        "id": "ZPKh0zN5l4YL",
        "outputId": "71c72305-78e4-4c46-eaad-ee3f8530e0da"
      },
      "execution_count": 22,
      "outputs": [
        {
          "output_type": "stream",
          "name": "stdout",
          "text": [
            "[3 8]\n"
          ]
        }
      ]
    },
    {
      "cell_type": "markdown",
      "source": [
        "**both rows and colums from the middle parts slice it**"
      ],
      "metadata": {
        "id": "YMUG2kANmQqF"
      }
    },
    {
      "cell_type": "code",
      "source": [
        "import numpy as np\n",
        "\n",
        "arr = np.array([[1, 2, 3, 4, 5],\n",
        "                [6, 7, 8, 9, 10]])\n",
        "\n",
        "print(arr[0:2,1:4])"
      ],
      "metadata": {
        "colab": {
          "base_uri": "https://localhost:8080/"
        },
        "id": "a6P4ZobFmazP",
        "outputId": "245713ec-8fc2-4dcf-e91c-b8b3b2dc2106"
      },
      "execution_count": 23,
      "outputs": [
        {
          "output_type": "stream",
          "name": "stdout",
          "text": [
            "[[2 3 4]\n",
            " [7 8 9]]\n"
          ]
        }
      ]
    },
    {
      "cell_type": "markdown",
      "source": [
        "**specific elememts**"
      ],
      "metadata": {
        "id": "Z80txzMMmza8"
      }
    },
    {
      "cell_type": "code",
      "source": [
        "import numpy as np\n",
        "\n",
        "arr = np.array([[1, 2, 3, 4, 5],\n",
        "                [6, 7, 8, 9, 10]])\n",
        "\n",
        "print(arr[0,2])\n",
        "print(arr[1,3])"
      ],
      "metadata": {
        "colab": {
          "base_uri": "https://localhost:8080/"
        },
        "id": "DIhnDiKOm116",
        "outputId": "9d7d3629-8e15-42db-85d6-97deca8bf08a"
      },
      "execution_count": 25,
      "outputs": [
        {
          "output_type": "stream",
          "name": "stdout",
          "text": [
            "3\n",
            "9\n"
          ]
        }
      ]
    },
    {
      "cell_type": "markdown",
      "source": [
        "**get a specific row**"
      ],
      "metadata": {
        "id": "KkYC1JB4nEl6"
      }
    },
    {
      "cell_type": "code",
      "source": [
        "import numpy as np\n",
        "\n",
        "arr = np.array([[1, 2, 3, 4, 5],\n",
        "                [6, 7, 8, 9, 10]])\n",
        "print(arr[0])\n",
        "print(arr[0,:])\n",
        "\n",
        "print(arr[0:2,2])"
      ],
      "metadata": {
        "colab": {
          "base_uri": "https://localhost:8080/"
        },
        "id": "HXGAaP6TnJek",
        "outputId": "6f3592b3-0ae2-4df9-ed80-d4f9bc1aec3e"
      },
      "execution_count": 33,
      "outputs": [
        {
          "output_type": "stream",
          "name": "stdout",
          "text": [
            "[1 2 3 4 5]\n",
            "[1 2 3 4 5]\n",
            "[3 8]\n"
          ]
        }
      ]
    },
    {
      "cell_type": "markdown",
      "source": [],
      "metadata": {
        "id": "ZsKYLp15pFB1"
      }
    },
    {
      "cell_type": "markdown",
      "source": [
        "**change number 9 to any number you want**"
      ],
      "metadata": {
        "id": "-TGr9XPCoTpi"
      }
    },
    {
      "cell_type": "code",
      "source": [
        "import numpy as np\n",
        "\n",
        "arr = np.array([[1, 2, 4, 5,11],\n",
        "                [6, 7, 8, 9, 10]])\n",
        "\n",
        "arr[1,3]=23\n",
        "print(arr)\n",
        "\n",
        "#chnage the entire rows\n",
        "\n",
        "arr[1]=5\n",
        "print(arr)\n",
        "\n",
        "arr[0:2,3]=999\n",
        "print(arr)\n",
        "\n",
        "\n",
        "arr[0,1:3]=[3,3]\n",
        "print(arr)\n",
        "\n"
      ],
      "metadata": {
        "colab": {
          "base_uri": "https://localhost:8080/"
        },
        "id": "0-BNBNp9oX6f",
        "outputId": "7ff85f6e-fb5a-44ae-cefa-68125535ec37"
      },
      "execution_count": 46,
      "outputs": [
        {
          "output_type": "stream",
          "name": "stdout",
          "text": [
            "[[ 1  2  4  5 11]\n",
            " [ 6  7  8 23 10]]\n",
            "[[ 1  2  4  5 11]\n",
            " [ 5  5  5  5  5]]\n",
            "[[  1   2   4 999  11]\n",
            " [  5   5   5 999   5]]\n",
            "[[  1   3   3 999  11]\n",
            " [  5   5   5 999   5]]\n"
          ]
        }
      ]
    },
    {
      "cell_type": "markdown",
      "source": [
        "**ALL 0s matrices**"
      ],
      "metadata": {
        "id": "lGsRzGNvqnHv"
      }
    },
    {
      "cell_type": "code",
      "source": [
        "np.zeros((2,3,3))"
      ],
      "metadata": {
        "colab": {
          "base_uri": "https://localhost:8080/"
        },
        "id": "UjlRbCsUv7v0",
        "outputId": "51a3baa5-8a19-4285-8d9a-7af2eff24249"
      },
      "execution_count": 57,
      "outputs": [
        {
          "output_type": "execute_result",
          "data": {
            "text/plain": [
              "array([[[0., 0., 0.],\n",
              "        [0., 0., 0.],\n",
              "        [0., 0., 0.]],\n",
              "\n",
              "       [[0., 0., 0.],\n",
              "        [0., 0., 0.],\n",
              "        [0., 0., 0.]]])"
            ]
          },
          "metadata": {},
          "execution_count": 57
        }
      ]
    },
    {
      "cell_type": "code",
      "source": [
        "np.zeros((2,3))"
      ],
      "metadata": {
        "colab": {
          "base_uri": "https://localhost:8080/"
        },
        "id": "kL4qvRZkwgip",
        "outputId": "a7df5d08-c071-460d-f44a-372245181a46"
      },
      "execution_count": 54,
      "outputs": [
        {
          "output_type": "execute_result",
          "data": {
            "text/plain": [
              "array([[0., 0., 0.],\n",
              "       [0., 0., 0.]])"
            ]
          },
          "metadata": {},
          "execution_count": 54
        }
      ]
    },
    {
      "cell_type": "code",
      "source": [
        "np.zeros(5)"
      ],
      "metadata": {
        "colab": {
          "base_uri": "https://localhost:8080/"
        },
        "id": "l0_zZ2HtwiaJ",
        "outputId": "a8527dc9-08ff-409d-c7b0-becce30b2dba"
      },
      "execution_count": 55,
      "outputs": [
        {
          "output_type": "execute_result",
          "data": {
            "text/plain": [
              "array([0., 0., 0., 0., 0.])"
            ]
          },
          "metadata": {},
          "execution_count": 55
        }
      ]
    },
    {
      "cell_type": "markdown",
      "source": [],
      "metadata": {
        "id": "kRb1aeuuwvmp"
      }
    },
    {
      "cell_type": "markdown",
      "source": [
        "**all 1s matrices**"
      ],
      "metadata": {
        "id": "UWeY6-I5wvof"
      }
    },
    {
      "cell_type": "code",
      "source": [
        "np.ones(1)"
      ],
      "metadata": {
        "colab": {
          "base_uri": "https://localhost:8080/"
        },
        "id": "yzQ2Ps0lwy5J",
        "outputId": "936c5eb9-a75e-43c3-d90a-0b253a1962a8"
      },
      "execution_count": 58,
      "outputs": [
        {
          "output_type": "execute_result",
          "data": {
            "text/plain": [
              "array([1.])"
            ]
          },
          "metadata": {},
          "execution_count": 58
        }
      ]
    },
    {
      "cell_type": "code",
      "source": [
        "np.ones((2,2),dtype=int)"
      ],
      "metadata": {
        "colab": {
          "base_uri": "https://localhost:8080/"
        },
        "id": "KQhuSBJjw1RP",
        "outputId": "398f83b5-ae9f-495b-8e9b-e48f747c0deb"
      },
      "execution_count": 64,
      "outputs": [
        {
          "output_type": "execute_result",
          "data": {
            "text/plain": [
              "array([[1, 1],\n",
              "       [1, 1]])"
            ]
          },
          "metadata": {},
          "execution_count": 64
        }
      ]
    },
    {
      "cell_type": "markdown",
      "source": [
        "**any other numbers:**\n",
        "\n",
        "*   it takes two paramters the shape and the value"
      ],
      "metadata": {
        "id": "b3BtHk8lxMwf"
      }
    },
    {
      "cell_type": "code",
      "source": [
        "np.full((2,2),123,dtype=float)"
      ],
      "metadata": {
        "colab": {
          "base_uri": "https://localhost:8080/"
        },
        "id": "jtOheGRaxXT9",
        "outputId": "f47d80b8-795d-4949-eb16-8ee656bac347"
      },
      "execution_count": 63,
      "outputs": [
        {
          "output_type": "execute_result",
          "data": {
            "text/plain": [
              "array([[123., 123.],\n",
              "       [123., 123.]])"
            ]
          },
          "metadata": {},
          "execution_count": 63
        }
      ]
    },
    {
      "cell_type": "markdown",
      "source": [
        "**random decimla numbers**"
      ],
      "metadata": {
        "id": "3iEqyNOhyqbA"
      }
    },
    {
      "cell_type": "code",
      "source": [
        "np.random.rand(4,4)"
      ],
      "metadata": {
        "colab": {
          "base_uri": "https://localhost:8080/"
        },
        "id": "WNCBOdHBywp-",
        "outputId": "1d6b60af-82d2-40b0-b871-a3a2d499c550"
      },
      "execution_count": 65,
      "outputs": [
        {
          "output_type": "execute_result",
          "data": {
            "text/plain": [
              "array([[0.90000942, 0.24055181, 0.48990256, 0.00579335],\n",
              "       [0.82409981, 0.8319493 , 0.33398686, 0.77089569],\n",
              "       [0.82933511, 0.25985638, 0.15984122, 0.79765359],\n",
              "       [0.22750037, 0.92774383, 0.01919569, 0.28963536]])"
            ]
          },
          "metadata": {},
          "execution_count": 65
        }
      ]
    },
    {
      "cell_type": "code",
      "source": [
        "np.random.randint(4,size=(3,4))\n",
        "#if you dont specify the size its just gonna show 1 random numbers"
      ],
      "metadata": {
        "colab": {
          "base_uri": "https://localhost:8080/"
        },
        "id": "GZ72zIy4y1kM",
        "outputId": "e3d51091-8b6c-4c1e-f7d4-77d6ce0e6e96"
      },
      "execution_count": 73,
      "outputs": [
        {
          "output_type": "execute_result",
          "data": {
            "text/plain": [
              "array([[3, 0, 2, 2],\n",
              "       [2, 2, 3, 0],\n",
              "       [0, 3, 3, 0]])"
            ]
          },
          "metadata": {},
          "execution_count": 73
        }
      ]
    },
    {
      "cell_type": "code",
      "source": [
        "#if you want a number between 3 to 8\n",
        "np.random.randint(3,9,size=(3,4))\n",
        "#9 is exclusive so itdoenot include 9"
      ],
      "metadata": {
        "colab": {
          "base_uri": "https://localhost:8080/"
        },
        "id": "akfz7_Id0hq7",
        "outputId": "08f591d0-0fd1-433b-e750-c1d0c9ab0b21"
      },
      "execution_count": 75,
      "outputs": [
        {
          "output_type": "execute_result",
          "data": {
            "text/plain": [
              "array([[5, 5, 3, 3],\n",
              "       [8, 6, 7, 6],\n",
              "       [7, 5, 6, 5]])"
            ]
          },
          "metadata": {},
          "execution_count": 75
        }
      ]
    },
    {
      "cell_type": "markdown",
      "source": [
        "**identitity matrix**\n",
        "\n",
        "1.   this only need one paramter because by nature its going to be sqaure matrix\n",
        "\n"
      ],
      "metadata": {
        "id": "M4dzU-pd0yyR"
      }
    },
    {
      "cell_type": "code",
      "source": [
        "np.identity(4)"
      ],
      "metadata": {
        "colab": {
          "base_uri": "https://localhost:8080/"
        },
        "id": "qXP2T13l03qI",
        "outputId": "a3061c89-53e3-4984-8b6b-b0e161d28f12"
      },
      "execution_count": 78,
      "outputs": [
        {
          "output_type": "execute_result",
          "data": {
            "text/plain": [
              "array([[1., 0., 0., 0.],\n",
              "       [0., 1., 0., 0.],\n",
              "       [0., 0., 1., 0.],\n",
              "       [0., 0., 0., 1.]])"
            ]
          },
          "metadata": {},
          "execution_count": 78
        }
      ]
    },
    {
      "cell_type": "code",
      "source": [
        "np.eye(2,dtype=int)"
      ],
      "metadata": {
        "colab": {
          "base_uri": "https://localhost:8080/"
        },
        "id": "P9CDXb-g1FTP",
        "outputId": "e010d693-5b87-4dd2-9ce2-3964786c1a8e"
      },
      "execution_count": 79,
      "outputs": [
        {
          "output_type": "execute_result",
          "data": {
            "text/plain": [
              "array([[1, 0],\n",
              "       [0, 1]])"
            ]
          },
          "metadata": {},
          "execution_count": 79
        }
      ]
    }
  ]
}